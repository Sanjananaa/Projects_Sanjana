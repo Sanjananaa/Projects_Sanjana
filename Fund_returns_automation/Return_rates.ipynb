{
 "cells": [
  {
   "cell_type": "code",
   "execution_count": 29,
   "metadata": {},
   "outputs": [
    {
     "data": {
      "text/html": [
       "<div>\n",
       "<style scoped>\n",
       "    .dataframe tbody tr th:only-of-type {\n",
       "        vertical-align: middle;\n",
       "    }\n",
       "\n",
       "    .dataframe tbody tr th {\n",
       "        vertical-align: top;\n",
       "    }\n",
       "\n",
       "    .dataframe thead th {\n",
       "        text-align: right;\n",
       "    }\n",
       "</style>\n",
       "<table border=\"1\" class=\"dataframe\">\n",
       "  <thead>\n",
       "    <tr style=\"text-align: right;\">\n",
       "      <th></th>\n",
       "      <th>Date</th>\n",
       "      <th>Nippon India Large Cap</th>\n",
       "      <th>HDFC Flexi Cap</th>\n",
       "      <th>Nifty 50 TRI</th>\n",
       "      <th>NIfty 500 TRI</th>\n",
       "    </tr>\n",
       "  </thead>\n",
       "  <tbody>\n",
       "    <tr>\n",
       "      <th>0</th>\n",
       "      <td>1/1/18</td>\n",
       "      <td>34.6</td>\n",
       "      <td>675.4</td>\n",
       "      <td>14252.0</td>\n",
       "      <td>13813.8</td>\n",
       "    </tr>\n",
       "    <tr>\n",
       "      <th>1</th>\n",
       "      <td>1/2/18</td>\n",
       "      <td>34.5</td>\n",
       "      <td>672.0</td>\n",
       "      <td>14261.1</td>\n",
       "      <td>13789.4</td>\n",
       "    </tr>\n",
       "    <tr>\n",
       "      <th>2</th>\n",
       "      <td>1/3/18</td>\n",
       "      <td>34.6</td>\n",
       "      <td>675.0</td>\n",
       "      <td>14262.5</td>\n",
       "      <td>13820.9</td>\n",
       "    </tr>\n",
       "    <tr>\n",
       "      <th>3</th>\n",
       "      <td>1/4/18</td>\n",
       "      <td>35.0</td>\n",
       "      <td>683.6</td>\n",
       "      <td>14346.6</td>\n",
       "      <td>13918.1</td>\n",
       "    </tr>\n",
       "    <tr>\n",
       "      <th>4</th>\n",
       "      <td>1/5/18</td>\n",
       "      <td>35.2</td>\n",
       "      <td>685.6</td>\n",
       "      <td>14420.4</td>\n",
       "      <td>14017.2</td>\n",
       "    </tr>\n",
       "    <tr>\n",
       "      <th>...</th>\n",
       "      <td>...</td>\n",
       "      <td>...</td>\n",
       "      <td>...</td>\n",
       "      <td>...</td>\n",
       "      <td>...</td>\n",
       "    </tr>\n",
       "    <tr>\n",
       "      <th>1974</th>\n",
       "      <td>7/18/25</td>\n",
       "      <td>100.9</td>\n",
       "      <td>2158.2</td>\n",
       "      <td>37435.7</td>\n",
       "      <td>37010.3</td>\n",
       "    </tr>\n",
       "    <tr>\n",
       "      <th>1975</th>\n",
       "      <td>7/21/25</td>\n",
       "      <td>101.4</td>\n",
       "      <td>2170.9</td>\n",
       "      <td>37619.1</td>\n",
       "      <td>37174.7</td>\n",
       "    </tr>\n",
       "    <tr>\n",
       "      <th>1976</th>\n",
       "      <td>7/22/25</td>\n",
       "      <td>101.3</td>\n",
       "      <td>2168.0</td>\n",
       "      <td>37574.4</td>\n",
       "      <td>37083.1</td>\n",
       "    </tr>\n",
       "    <tr>\n",
       "      <th>1977</th>\n",
       "      <td>7/23/25</td>\n",
       "      <td>101.8</td>\n",
       "      <td>2179.8</td>\n",
       "      <td>37812.8</td>\n",
       "      <td>37254.9</td>\n",
       "    </tr>\n",
       "    <tr>\n",
       "      <th>1978</th>\n",
       "      <td>7/24/25</td>\n",
       "      <td>101.3</td>\n",
       "      <td>2170.9</td>\n",
       "      <td>37579.0</td>\n",
       "      <td>37054.6</td>\n",
       "    </tr>\n",
       "  </tbody>\n",
       "</table>\n",
       "<p>1979 rows × 5 columns</p>\n",
       "</div>"
      ],
      "text/plain": [
       "         Date  Nippon India Large Cap  HDFC Flexi Cap  Nifty 50 TRI  \\\n",
       "0      1/1/18                    34.6           675.4       14252.0   \n",
       "1      1/2/18                    34.5           672.0       14261.1   \n",
       "2      1/3/18                    34.6           675.0       14262.5   \n",
       "3      1/4/18                    35.0           683.6       14346.6   \n",
       "4      1/5/18                    35.2           685.6       14420.4   \n",
       "...       ...                     ...             ...           ...   \n",
       "1974  7/18/25                   100.9          2158.2       37435.7   \n",
       "1975  7/21/25                   101.4          2170.9       37619.1   \n",
       "1976  7/22/25                   101.3          2168.0       37574.4   \n",
       "1977  7/23/25                   101.8          2179.8       37812.8   \n",
       "1978  7/24/25                   101.3          2170.9       37579.0   \n",
       "\n",
       "      NIfty 500 TRI  \n",
       "0           13813.8  \n",
       "1           13789.4  \n",
       "2           13820.9  \n",
       "3           13918.1  \n",
       "4           14017.2  \n",
       "...             ...  \n",
       "1974        37010.3  \n",
       "1975        37174.7  \n",
       "1976        37083.1  \n",
       "1977        37254.9  \n",
       "1978        37054.6  \n",
       "\n",
       "[1979 rows x 5 columns]"
      ]
     },
     "execution_count": 29,
     "metadata": {},
     "output_type": "execute_result"
    }
   ],
   "source": [
    "import pandas as pd\n",
    "from dateutil.relativedelta import relativedelta\n",
    "from datetime import datetime\n",
    "from dateutil.parser import parse\n",
    "df = pd.read_csv('CSV Sample data.csv')  \n",
    "df"
   ]
  },
  {
   "cell_type": "code",
   "execution_count": null,
   "metadata": {},
   "outputs": [],
   "source": [
    "import pandas as pd\n",
    "from dateutil.relativedelta import relativedelta\n",
    "from datetime import datetime\n",
    "df['Date'] = pd.to_datetime(df['Date'])\n",
    "def calculate_return(df, months):\n",
    "    current_date = df['Date'].max()\n",
    "    curr_NAV = df[df['Date'] == current_date]['Nippon India Large Cap'].values[0]\n",
    "    previous_date = current_date - relativedelta(months=months)\n",
    "    month_number = previous_date.month\n",
    "    year_number = previous_date.year \n",
    "    last_date = df[(df['Date'].dt.month == month_number) & (df['Date'].dt.year == year_number)]['Date'].max()\n",
    "    oneM_NAV = df[df['Date'] == last_date]['Nippon India Large Cap'].values[0]\n",
    "    NAV = ((curr_NAV / oneM_NAV) - 1) * 100\n",
    "    return NAV\n",
    "one_month_return = calculate_return(df, 1)\n",
    "three_month_return = calculate_return(df, 3)\n",
    "six_month_return = calculate_return(df, 6)\n",
    "one_year_return = calculate_return(df, 12)"
   ]
  },
  {
   "cell_type": "code",
   "execution_count": 24,
   "metadata": {},
   "outputs": [
    {
     "data": {
      "text/plain": [
       "-1.074218750000011"
      ]
     },
     "execution_count": 24,
     "metadata": {},
     "output_type": "execute_result"
    }
   ],
   "source": [
    "one_month_return"
   ]
  },
  {
   "cell_type": "code",
   "execution_count": 25,
   "metadata": {},
   "outputs": [
    {
     "data": {
      "text/plain": [
       "5.741127348643005"
      ]
     },
     "execution_count": 25,
     "metadata": {},
     "output_type": "execute_result"
    }
   ],
   "source": [
    "three_month_return "
   ]
  },
  {
   "cell_type": "code",
   "execution_count": 26,
   "metadata": {},
   "outputs": [
    {
     "data": {
      "text/plain": [
       "9.041980624327216"
      ]
     },
     "execution_count": 26,
     "metadata": {},
     "output_type": "execute_result"
    }
   ],
   "source": [
    "six_month_return "
   ]
  },
  {
   "cell_type": "code",
   "execution_count": 27,
   "metadata": {},
   "outputs": [
    {
     "data": {
      "text/plain": [
       "2.323232323232327"
      ]
     },
     "execution_count": 27,
     "metadata": {},
     "output_type": "execute_result"
    }
   ],
   "source": [
    "one_year_return "
   ]
  }
 ],
 "metadata": {
  "kernelspec": {
   "display_name": "Python 3",
   "language": "python",
   "name": "python3"
  },
  "language_info": {
   "codemirror_mode": {
    "name": "ipython",
    "version": 3
   },
   "file_extension": ".py",
   "mimetype": "text/x-python",
   "name": "python",
   "nbconvert_exporter": "python",
   "pygments_lexer": "ipython3",
   "version": "3.12.3"
  }
 },
 "nbformat": 4,
 "nbformat_minor": 2
}
